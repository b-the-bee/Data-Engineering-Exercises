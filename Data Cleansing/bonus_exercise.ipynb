{
 "cells": [
  {
   "cell_type": "code",
   "execution_count": 3,
   "metadata": {},
   "outputs": [
    {
     "name": "stdout",
     "output_type": "stream",
     "text": [
      "Error at index 0\n",
      "iloc 206\n",
      "value 1879 [1878]\n"
     ]
    },
    {
     "data": {
      "text/plain": [
       "0.021857263615505374"
      ]
     },
     "execution_count": 3,
     "metadata": {},
     "output_type": "execute_result"
    }
   ],
   "source": [
    "import pandas as pd\n",
    "import numpy as np\n",
    "df = pd.read_csv('british-library-books.csv')\n",
    "df.head()\n",
    "\n",
    "df = pd.read_csv('british-library-books.csv')\n",
    "to_drop = [\n",
    "    'Edition Statement',\n",
    "    'Corporate Author',\n",
    "    'Corporate Contributors',\n",
    "    'Former owner',\n",
    "    'Engraver',\n",
    "    'Contributors',\n",
    "    'Issuance type',\n",
    "    'Shelfmarks',\n",
    "    'Flickr URL'\n",
    "]\n",
    "\n",
    "df.drop(columns=to_drop, inplace=True)\n",
    "df.head()\n",
    "\n",
    "df['Identifier'].is_unique\n",
    "\n",
    "df.set_index('Identifier', inplace=True)\n",
    "df.head()\n",
    "\n",
    "df.loc[206:, 'Date of Publication'].head(10)\n",
    "\n",
    "col = 'Date of Publication'\n",
    "\n",
    "for i in range(len(df[col])):\n",
    "    current = df[col].iloc[i]\n",
    "    \n",
    "    # Example - Convert 'NaN' fields to strongly typed NumPy 'np.nan'\n",
    "    if isinstance(current, float):\n",
    "        df[col].iloc[i] = np.nan\n",
    "        continue \n",
    "\n",
    "    # Example - Convert dates in square brackets [] to clean date\n",
    "    if current.startswith('['):\n",
    "        df[col].iloc[i] = current[1:5]\n",
    "\n",
    "    # TODO: Insert more cleansing code here\n",
    "\n",
    "col = 'Date of Publication'\n",
    "for i in range(len(df[col])):\n",
    "    try:\n",
    "        df[col].iloc[i] = pd.to_numeric(df[col].iloc[i])\n",
    "    except Exception as ex:\n",
    "        print(\"Error at index\", i)\n",
    "        print(\"iloc\", df.iloc[i].name)\n",
    "        print(\"value\", df[col].iloc[i])\n",
    "        break\n",
    "\n",
    "df['Date of Publication'].isnull().sum() / len(df)"
   ]
  }
 ],
 "metadata": {
  "kernelspec": {
   "display_name": "Python 3",
   "language": "python",
   "name": "python3"
  },
  "language_info": {
   "codemirror_mode": {
    "name": "ipython",
    "version": 3
   },
   "file_extension": ".py",
   "mimetype": "text/x-python",
   "name": "python",
   "nbconvert_exporter": "python",
   "pygments_lexer": "ipython3",
   "version": "3.11.5"
  }
 },
 "nbformat": 4,
 "nbformat_minor": 2
}
